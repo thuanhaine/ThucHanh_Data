{
  "nbformat": 4,
  "nbformat_minor": 0,
  "metadata": {
    "colab": {
      "provenance": []
    },
    "kernelspec": {
      "name": "python3",
      "display_name": "Python 3"
    },
    "language_info": {
      "name": "python"
    }
  },
  "cells": [
    {
      "cell_type": "code",
      "execution_count": null,
      "metadata": {
        "id": "HX5c3S0Sv1oZ"
      },
      "outputs": [],
      "source": [
        "\"\"\"VIII. Exersises\n",
        "1. Sales\n",
        "Fill in the TODO cells in sales.ipynb notebook.\n",
        "✓ Fix column datatypes.\n",
        "✓ Drop if duplicated or null.\n",
        "✓ Sanity check for value ranges and to check assumptions.\n",
        "✓ Use regular expression and lambda function to parse data.\n",
        "\"\"\"\n",
        "\n",
        "import pandas as pd"
      ]
    },
    {
      "cell_type": "code",
      "source": [
        "df = pd.read_csv('sales.csv')"
      ],
      "metadata": {
        "id": "nDxDEEeEwoVT"
      },
      "execution_count": null,
      "outputs": []
    },
    {
      "cell_type": "code",
      "source": [
        "df.head()"
      ],
      "metadata": {
        "colab": {
          "base_uri": "https://localhost:8080/",
          "height": 206
        },
        "id": "7jo_rl7kwnxE",
        "outputId": "a31c032b-e4be-4a00-ae0f-fd1f72754dcc"
      },
      "execution_count": null,
      "outputs": [
        {
          "output_type": "execute_result",
          "data": {
            "text/plain": [
              "   order_id                       name          ordered_at  price  quantity  \\\n",
              "0     10000   ơICE CREAMơ Peanut Fudge 2018-01-01 11:30:00    3.5         3   \n",
              "1     10000   ơICE CREAMơ Peanut Fudge 2018-01-01 11:30:00    3.5         1   \n",
              "2     10001         ơSORBETơ Raspberry 2018-01-01 12:14:54    2.5         2   \n",
              "4     10001  ơCONEơ Dipped Waffle Cone 2018-01-01 12:14:54    3.5         1   \n",
              "5     10002            ơSORBETơ Lychee 2018-01-01 12:23:09    3.0         1   \n",
              "\n",
              "  line_total  \n",
              "0     $10.50  \n",
              "1      $3.50  \n",
              "2      $5.00  \n",
              "4      $3.50  \n",
              "5      $3.00  "
            ],
            "text/html": [
              "\n",
              "  <div id=\"df-c71127f3-6403-4b6a-879f-ee64e924d67e\">\n",
              "    <div class=\"colab-df-container\">\n",
              "      <div>\n",
              "<style scoped>\n",
              "    .dataframe tbody tr th:only-of-type {\n",
              "        vertical-align: middle;\n",
              "    }\n",
              "\n",
              "    .dataframe tbody tr th {\n",
              "        vertical-align: top;\n",
              "    }\n",
              "\n",
              "    .dataframe thead th {\n",
              "        text-align: right;\n",
              "    }\n",
              "</style>\n",
              "<table border=\"1\" class=\"dataframe\">\n",
              "  <thead>\n",
              "    <tr style=\"text-align: right;\">\n",
              "      <th></th>\n",
              "      <th>order_id</th>\n",
              "      <th>name</th>\n",
              "      <th>ordered_at</th>\n",
              "      <th>price</th>\n",
              "      <th>quantity</th>\n",
              "      <th>line_total</th>\n",
              "    </tr>\n",
              "  </thead>\n",
              "  <tbody>\n",
              "    <tr>\n",
              "      <th>0</th>\n",
              "      <td>10000</td>\n",
              "      <td>ơICE CREAMơ Peanut Fudge</td>\n",
              "      <td>2018-01-01 11:30:00</td>\n",
              "      <td>3.5</td>\n",
              "      <td>3</td>\n",
              "      <td>$10.50</td>\n",
              "    </tr>\n",
              "    <tr>\n",
              "      <th>1</th>\n",
              "      <td>10000</td>\n",
              "      <td>ơICE CREAMơ Peanut Fudge</td>\n",
              "      <td>2018-01-01 11:30:00</td>\n",
              "      <td>3.5</td>\n",
              "      <td>1</td>\n",
              "      <td>$3.50</td>\n",
              "    </tr>\n",
              "    <tr>\n",
              "      <th>2</th>\n",
              "      <td>10001</td>\n",
              "      <td>ơSORBETơ Raspberry</td>\n",
              "      <td>2018-01-01 12:14:54</td>\n",
              "      <td>2.5</td>\n",
              "      <td>2</td>\n",
              "      <td>$5.00</td>\n",
              "    </tr>\n",
              "    <tr>\n",
              "      <th>4</th>\n",
              "      <td>10001</td>\n",
              "      <td>ơCONEơ Dipped Waffle Cone</td>\n",
              "      <td>2018-01-01 12:14:54</td>\n",
              "      <td>3.5</td>\n",
              "      <td>1</td>\n",
              "      <td>$3.50</td>\n",
              "    </tr>\n",
              "    <tr>\n",
              "      <th>5</th>\n",
              "      <td>10002</td>\n",
              "      <td>ơSORBETơ Lychee</td>\n",
              "      <td>2018-01-01 12:23:09</td>\n",
              "      <td>3.0</td>\n",
              "      <td>1</td>\n",
              "      <td>$3.00</td>\n",
              "    </tr>\n",
              "  </tbody>\n",
              "</table>\n",
              "</div>\n",
              "      <button class=\"colab-df-convert\" onclick=\"convertToInteractive('df-c71127f3-6403-4b6a-879f-ee64e924d67e')\"\n",
              "              title=\"Convert this dataframe to an interactive table.\"\n",
              "              style=\"display:none;\">\n",
              "        \n",
              "  <svg xmlns=\"http://www.w3.org/2000/svg\" height=\"24px\"viewBox=\"0 0 24 24\"\n",
              "       width=\"24px\">\n",
              "    <path d=\"M0 0h24v24H0V0z\" fill=\"none\"/>\n",
              "    <path d=\"M18.56 5.44l.94 2.06.94-2.06 2.06-.94-2.06-.94-.94-2.06-.94 2.06-2.06.94zm-11 1L8.5 8.5l.94-2.06 2.06-.94-2.06-.94L8.5 2.5l-.94 2.06-2.06.94zm10 10l.94 2.06.94-2.06 2.06-.94-2.06-.94-.94-2.06-.94 2.06-2.06.94z\"/><path d=\"M17.41 7.96l-1.37-1.37c-.4-.4-.92-.59-1.43-.59-.52 0-1.04.2-1.43.59L10.3 9.45l-7.72 7.72c-.78.78-.78 2.05 0 2.83L4 21.41c.39.39.9.59 1.41.59.51 0 1.02-.2 1.41-.59l7.78-7.78 2.81-2.81c.8-.78.8-2.07 0-2.86zM5.41 20L4 18.59l7.72-7.72 1.47 1.35L5.41 20z\"/>\n",
              "  </svg>\n",
              "      </button>\n",
              "      \n",
              "  <style>\n",
              "    .colab-df-container {\n",
              "      display:flex;\n",
              "      flex-wrap:wrap;\n",
              "      gap: 12px;\n",
              "    }\n",
              "\n",
              "    .colab-df-convert {\n",
              "      background-color: #E8F0FE;\n",
              "      border: none;\n",
              "      border-radius: 50%;\n",
              "      cursor: pointer;\n",
              "      display: none;\n",
              "      fill: #1967D2;\n",
              "      height: 32px;\n",
              "      padding: 0 0 0 0;\n",
              "      width: 32px;\n",
              "    }\n",
              "\n",
              "    .colab-df-convert:hover {\n",
              "      background-color: #E2EBFA;\n",
              "      box-shadow: 0px 1px 2px rgba(60, 64, 67, 0.3), 0px 1px 3px 1px rgba(60, 64, 67, 0.15);\n",
              "      fill: #174EA6;\n",
              "    }\n",
              "\n",
              "    [theme=dark] .colab-df-convert {\n",
              "      background-color: #3B4455;\n",
              "      fill: #D2E3FC;\n",
              "    }\n",
              "\n",
              "    [theme=dark] .colab-df-convert:hover {\n",
              "      background-color: #434B5C;\n",
              "      box-shadow: 0px 1px 3px 1px rgba(0, 0, 0, 0.15);\n",
              "      filter: drop-shadow(0px 1px 2px rgba(0, 0, 0, 0.3));\n",
              "      fill: #FFFFFF;\n",
              "    }\n",
              "  </style>\n",
              "\n",
              "      <script>\n",
              "        const buttonEl =\n",
              "          document.querySelector('#df-c71127f3-6403-4b6a-879f-ee64e924d67e button.colab-df-convert');\n",
              "        buttonEl.style.display =\n",
              "          google.colab.kernel.accessAllowed ? 'block' : 'none';\n",
              "\n",
              "        async function convertToInteractive(key) {\n",
              "          const element = document.querySelector('#df-c71127f3-6403-4b6a-879f-ee64e924d67e');\n",
              "          const dataTable =\n",
              "            await google.colab.kernel.invokeFunction('convertToInteractive',\n",
              "                                                     [key], {});\n",
              "          if (!dataTable) return;\n",
              "\n",
              "          const docLinkHtml = 'Like what you see? Visit the ' +\n",
              "            '<a target=\"_blank\" href=https://colab.research.google.com/notebooks/data_table.ipynb>data table notebook</a>'\n",
              "            + ' to learn more about interactive tables.';\n",
              "          element.innerHTML = '';\n",
              "          dataTable['output_type'] = 'display_data';\n",
              "          await google.colab.output.renderOutput(dataTable, element);\n",
              "          const docLink = document.createElement('div');\n",
              "          docLink.innerHTML = docLinkHtml;\n",
              "          element.appendChild(docLink);\n",
              "        }\n",
              "      </script>\n",
              "    </div>\n",
              "  </div>\n",
              "  "
            ]
          },
          "metadata": {},
          "execution_count": 77
        }
      ]
    },
    {
      "cell_type": "code",
      "source": [
        "df['price'] = df['price'].replace('[$,]', '', regex=True).astype(float)"
      ],
      "metadata": {
        "id": "3amNYYliwkNQ"
      },
      "execution_count": null,
      "outputs": []
    },
    {
      "cell_type": "code",
      "source": [
        "df['ordered_at'] = pd.to_datetime(df['ordered_at'])"
      ],
      "metadata": {
        "id": "kfJzcWZYwkqx"
      },
      "execution_count": null,
      "outputs": []
    },
    {
      "cell_type": "code",
      "source": [
        "df['line_total'] = df['line_total'].replace('[$,]', '', regex=True).astype(float)"
      ],
      "metadata": {
        "id": "enVc2oPJwjtO"
      },
      "execution_count": null,
      "outputs": []
    },
    {
      "cell_type": "code",
      "source": [
        "df['name'] = df['name'].str.replace('ơ', ' ')"
      ],
      "metadata": {
        "id": "X1bD2vC_wklh"
      },
      "execution_count": null,
      "outputs": []
    },
    {
      "cell_type": "code",
      "source": [
        "print(df.dtypes)"
      ],
      "metadata": {
        "colab": {
          "base_uri": "https://localhost:8080/"
        },
        "id": "xHds3QZswjUo",
        "outputId": "de6020cb-74f7-45d1-c135-7df27dd258e7"
      },
      "execution_count": null,
      "outputs": [
        {
          "output_type": "stream",
          "name": "stdout",
          "text": [
            "order_id               int64\n",
            "name                  object\n",
            "ordered_at    datetime64[ns]\n",
            "price                float64\n",
            "quantity               int64\n",
            "line_total            object\n",
            "dtype: object\n"
          ]
        }
      ]
    },
    {
      "cell_type": "code",
      "source": [
        "df.drop_duplicates(inplace=True)"
      ],
      "metadata": {
        "id": "HKpJ4ptLwfQF"
      },
      "execution_count": null,
      "outputs": []
    },
    {
      "cell_type": "code",
      "source": [
        "df.dropna(inplace=True)"
      ],
      "metadata": {
        "id": "fOHHOElLwew7"
      },
      "execution_count": null,
      "outputs": []
    },
    {
      "cell_type": "code",
      "source": [
        "df.head()"
      ],
      "metadata": {
        "colab": {
          "base_uri": "https://localhost:8080/",
          "height": 206
        },
        "id": "eOSuaXB8weMc",
        "outputId": "4b92818d-b0d3-4d29-d824-2afc79d7de7b"
      },
      "execution_count": null,
      "outputs": [
        {
          "output_type": "execute_result",
          "data": {
            "text/plain": [
              "   order_id                       name          ordered_at  price  quantity  \\\n",
              "0     10000    ICE CREAM  Peanut Fudge 2018-01-01 11:30:00    3.5         3   \n",
              "1     10000    ICE CREAM  Peanut Fudge 2018-01-01 11:30:00    3.5         1   \n",
              "2     10001          SORBET  Raspberry 2018-01-01 12:14:54    2.5         2   \n",
              "4     10001   CONE  Dipped Waffle Cone 2018-01-01 12:14:54    3.5         1   \n",
              "5     10002             SORBET  Lychee 2018-01-01 12:23:09    3.0         1   \n",
              "\n",
              "  line_total  \n",
              "0     $10.50  \n",
              "1      $3.50  \n",
              "2      $5.00  \n",
              "4      $3.50  \n",
              "5      $3.00  "
            ],
            "text/html": [
              "\n",
              "  <div id=\"df-10c82798-d3d9-4ba9-bf5b-1ef451500871\">\n",
              "    <div class=\"colab-df-container\">\n",
              "      <div>\n",
              "<style scoped>\n",
              "    .dataframe tbody tr th:only-of-type {\n",
              "        vertical-align: middle;\n",
              "    }\n",
              "\n",
              "    .dataframe tbody tr th {\n",
              "        vertical-align: top;\n",
              "    }\n",
              "\n",
              "    .dataframe thead th {\n",
              "        text-align: right;\n",
              "    }\n",
              "</style>\n",
              "<table border=\"1\" class=\"dataframe\">\n",
              "  <thead>\n",
              "    <tr style=\"text-align: right;\">\n",
              "      <th></th>\n",
              "      <th>order_id</th>\n",
              "      <th>name</th>\n",
              "      <th>ordered_at</th>\n",
              "      <th>price</th>\n",
              "      <th>quantity</th>\n",
              "      <th>line_total</th>\n",
              "    </tr>\n",
              "  </thead>\n",
              "  <tbody>\n",
              "    <tr>\n",
              "      <th>0</th>\n",
              "      <td>10000</td>\n",
              "      <td>ICE CREAM  Peanut Fudge</td>\n",
              "      <td>2018-01-01 11:30:00</td>\n",
              "      <td>3.5</td>\n",
              "      <td>3</td>\n",
              "      <td>$10.50</td>\n",
              "    </tr>\n",
              "    <tr>\n",
              "      <th>1</th>\n",
              "      <td>10000</td>\n",
              "      <td>ICE CREAM  Peanut Fudge</td>\n",
              "      <td>2018-01-01 11:30:00</td>\n",
              "      <td>3.5</td>\n",
              "      <td>1</td>\n",
              "      <td>$3.50</td>\n",
              "    </tr>\n",
              "    <tr>\n",
              "      <th>2</th>\n",
              "      <td>10001</td>\n",
              "      <td>SORBET  Raspberry</td>\n",
              "      <td>2018-01-01 12:14:54</td>\n",
              "      <td>2.5</td>\n",
              "      <td>2</td>\n",
              "      <td>$5.00</td>\n",
              "    </tr>\n",
              "    <tr>\n",
              "      <th>4</th>\n",
              "      <td>10001</td>\n",
              "      <td>CONE  Dipped Waffle Cone</td>\n",
              "      <td>2018-01-01 12:14:54</td>\n",
              "      <td>3.5</td>\n",
              "      <td>1</td>\n",
              "      <td>$3.50</td>\n",
              "    </tr>\n",
              "    <tr>\n",
              "      <th>5</th>\n",
              "      <td>10002</td>\n",
              "      <td>SORBET  Lychee</td>\n",
              "      <td>2018-01-01 12:23:09</td>\n",
              "      <td>3.0</td>\n",
              "      <td>1</td>\n",
              "      <td>$3.00</td>\n",
              "    </tr>\n",
              "  </tbody>\n",
              "</table>\n",
              "</div>\n",
              "      <button class=\"colab-df-convert\" onclick=\"convertToInteractive('df-10c82798-d3d9-4ba9-bf5b-1ef451500871')\"\n",
              "              title=\"Convert this dataframe to an interactive table.\"\n",
              "              style=\"display:none;\">\n",
              "        \n",
              "  <svg xmlns=\"http://www.w3.org/2000/svg\" height=\"24px\"viewBox=\"0 0 24 24\"\n",
              "       width=\"24px\">\n",
              "    <path d=\"M0 0h24v24H0V0z\" fill=\"none\"/>\n",
              "    <path d=\"M18.56 5.44l.94 2.06.94-2.06 2.06-.94-2.06-.94-.94-2.06-.94 2.06-2.06.94zm-11 1L8.5 8.5l.94-2.06 2.06-.94-2.06-.94L8.5 2.5l-.94 2.06-2.06.94zm10 10l.94 2.06.94-2.06 2.06-.94-2.06-.94-.94-2.06-.94 2.06-2.06.94z\"/><path d=\"M17.41 7.96l-1.37-1.37c-.4-.4-.92-.59-1.43-.59-.52 0-1.04.2-1.43.59L10.3 9.45l-7.72 7.72c-.78.78-.78 2.05 0 2.83L4 21.41c.39.39.9.59 1.41.59.51 0 1.02-.2 1.41-.59l7.78-7.78 2.81-2.81c.8-.78.8-2.07 0-2.86zM5.41 20L4 18.59l7.72-7.72 1.47 1.35L5.41 20z\"/>\n",
              "  </svg>\n",
              "      </button>\n",
              "      \n",
              "  <style>\n",
              "    .colab-df-container {\n",
              "      display:flex;\n",
              "      flex-wrap:wrap;\n",
              "      gap: 12px;\n",
              "    }\n",
              "\n",
              "    .colab-df-convert {\n",
              "      background-color: #E8F0FE;\n",
              "      border: none;\n",
              "      border-radius: 50%;\n",
              "      cursor: pointer;\n",
              "      display: none;\n",
              "      fill: #1967D2;\n",
              "      height: 32px;\n",
              "      padding: 0 0 0 0;\n",
              "      width: 32px;\n",
              "    }\n",
              "\n",
              "    .colab-df-convert:hover {\n",
              "      background-color: #E2EBFA;\n",
              "      box-shadow: 0px 1px 2px rgba(60, 64, 67, 0.3), 0px 1px 3px 1px rgba(60, 64, 67, 0.15);\n",
              "      fill: #174EA6;\n",
              "    }\n",
              "\n",
              "    [theme=dark] .colab-df-convert {\n",
              "      background-color: #3B4455;\n",
              "      fill: #D2E3FC;\n",
              "    }\n",
              "\n",
              "    [theme=dark] .colab-df-convert:hover {\n",
              "      background-color: #434B5C;\n",
              "      box-shadow: 0px 1px 3px 1px rgba(0, 0, 0, 0.15);\n",
              "      filter: drop-shadow(0px 1px 2px rgba(0, 0, 0, 0.3));\n",
              "      fill: #FFFFFF;\n",
              "    }\n",
              "  </style>\n",
              "\n",
              "      <script>\n",
              "        const buttonEl =\n",
              "          document.querySelector('#df-10c82798-d3d9-4ba9-bf5b-1ef451500871 button.colab-df-convert');\n",
              "        buttonEl.style.display =\n",
              "          google.colab.kernel.accessAllowed ? 'block' : 'none';\n",
              "\n",
              "        async function convertToInteractive(key) {\n",
              "          const element = document.querySelector('#df-10c82798-d3d9-4ba9-bf5b-1ef451500871');\n",
              "          const dataTable =\n",
              "            await google.colab.kernel.invokeFunction('convertToInteractive',\n",
              "                                                     [key], {});\n",
              "          if (!dataTable) return;\n",
              "\n",
              "          const docLinkHtml = 'Like what you see? Visit the ' +\n",
              "            '<a target=\"_blank\" href=https://colab.research.google.com/notebooks/data_table.ipynb>data table notebook</a>'\n",
              "            + ' to learn more about interactive tables.';\n",
              "          element.innerHTML = '';\n",
              "          dataTable['output_type'] = 'display_data';\n",
              "          await google.colab.output.renderOutput(dataTable, element);\n",
              "          const docLink = document.createElement('div');\n",
              "          docLink.innerHTML = docLinkHtml;\n",
              "          element.appendChild(docLink);\n",
              "        }\n",
              "      </script>\n",
              "    </div>\n",
              "  </div>\n",
              "  "
            ]
          },
          "metadata": {},
          "execution_count": 79
        }
      ]
    },
    {
      "cell_type": "code",
      "source": [
        "print(df['price'].describe())"
      ],
      "metadata": {
        "colab": {
          "base_uri": "https://localhost:8080/"
        },
        "id": "_FXcvSW_wcNJ",
        "outputId": "c47cc1f9-ed90-4b55-e770-67e3d09111f6"
      },
      "execution_count": null,
      "outputs": [
        {
          "output_type": "stream",
          "name": "stdout",
          "text": [
            "count    27903.000000\n",
            "mean         2.461044\n",
            "std          1.173305\n",
            "min         -4.000000\n",
            "25%          1.500000\n",
            "50%          2.500000\n",
            "75%          3.500000\n",
            "max          4.000000\n",
            "Name: price, dtype: float64\n"
          ]
        }
      ]
    },
    {
      "cell_type": "code",
      "source": [
        "print(df['quantity'].describe())"
      ],
      "metadata": {
        "colab": {
          "base_uri": "https://localhost:8080/"
        },
        "id": "qn-bIBNFwdZy",
        "outputId": "731fa97c-4a37-410c-e055-29a753df5abc"
      },
      "execution_count": null,
      "outputs": [
        {
          "output_type": "stream",
          "name": "stdout",
          "text": [
            "count    27903.000000\n",
            "mean         2.001039\n",
            "std          0.819074\n",
            "min          1.000000\n",
            "25%          1.000000\n",
            "50%          2.000000\n",
            "75%          3.000000\n",
            "max          3.000000\n",
            "Name: quantity, dtype: float64\n"
          ]
        }
      ]
    },
    {
      "cell_type": "code",
      "source": [
        "print(df['line_total'].describe())"
      ],
      "metadata": {
        "colab": {
          "base_uri": "https://localhost:8080/"
        },
        "id": "oBEc8zpfwbjN",
        "outputId": "7831dedb-efae-4540-e5c4-0c1d94095ee6"
      },
      "execution_count": null,
      "outputs": [
        {
          "output_type": "stream",
          "name": "stdout",
          "text": [
            "count     27903\n",
            "unique       39\n",
            "top       $3.00\n",
            "freq       2755\n",
            "Name: line_total, dtype: object\n"
          ]
        }
      ]
    },
    {
      "cell_type": "code",
      "source": [
        "print(df['name'].value_counts())"
      ],
      "metadata": {
        "colab": {
          "base_uri": "https://localhost:8080/"
        },
        "id": "oFk_CNlrwa_3",
        "outputId": "2edc7504-580a-4f42-e9bc-322329becceb"
      },
      "execution_count": null,
      "outputs": [
        {
          "output_type": "stream",
          "name": "stdout",
          "text": [
            "ơICE CREAMơ Mint Chip             1102\n",
            "ơSORBETơ Lemon                    1095\n",
            "ơICE CREAMơ Candied Bacon         1090\n",
            "ơICE CREAMơ Dark Chocolate        1066\n",
            "ơCONEơ Cookie Cone                1062\n",
            "ơCONEơ Sugar Cone                 1062\n",
            "ơICE CREAMơ Rocky Road            1059\n",
            "ơICE CREAMơ Double Fudge Chunk    1059\n",
            "ơSORBETơ Raspberry                1055\n",
            "ơCONEơ Dipped Waffle Cone         1042\n",
            "ơSORBETơ Blood Orange             1041\n",
            "ơICE CREAMơ Maple Brown Sugar     1036\n",
            "ơBEVERAGEơ Iced Coffee            1035\n",
            "ơICE CREAMơ Wildberry             1035\n",
            "ơCONEơ Brownie Cone               1031\n",
            "ơICE CREAMơ Dulce De Leche        1028\n",
            "ơICE CREAMơ Matcha                1021\n",
            "ơICE CREAMơ Vanilla Bean          1021\n",
            "ơICE CREAMơ Strawberry            1015\n",
            "ơBEVERAGEơ Espresso               1008\n",
            "ơSORBETơ Watermelon               1006\n",
            "ơSORBETơ Lychee                   1005\n",
            "ơICE CREAMơ Earl Gray              997\n",
            "ơICE CREAMơ Peanut Fudge           996\n",
            "ơBEVERAGEơ Tea                     980\n",
            "ơCONEơ Waffle Cone                 979\n",
            "ơMISCơ Ice Cream Cake              977\n",
            "Name: name, dtype: int64\n"
          ]
        }
      ]
    },
    {
      "cell_type": "code",
      "source": [
        "print(df['ordered_at'].min())"
      ],
      "metadata": {
        "colab": {
          "base_uri": "https://localhost:8080/"
        },
        "id": "v3KV59xHwaiX",
        "outputId": "f5679110-df0c-4f94-8490-5503d912cee2"
      },
      "execution_count": null,
      "outputs": [
        {
          "output_type": "stream",
          "name": "stdout",
          "text": [
            "2018-01-01 11:30:00\n"
          ]
        }
      ]
    },
    {
      "cell_type": "code",
      "source": [
        "print(df['ordered_at'].max())"
      ],
      "metadata": {
        "colab": {
          "base_uri": "https://localhost:8080/"
        },
        "id": "bNsEO0RmwZ02",
        "outputId": "3fc625c3-3dee-4dd0-a4b8-6869b5b46071"
      },
      "execution_count": null,
      "outputs": [
        {
          "output_type": "stream",
          "name": "stdout",
          "text": [
            "2018-07-28 18:51:57\n"
          ]
        }
      ]
    },
    {
      "cell_type": "code",
      "source": [
        "df.head()"
      ],
      "metadata": {
        "colab": {
          "base_uri": "https://localhost:8080/",
          "height": 206
        },
        "id": "NJN4KNsFwXaZ",
        "outputId": "c11b499a-d711-4ee6-f597-a7db9bae5ae3"
      },
      "execution_count": null,
      "outputs": [
        {
          "output_type": "execute_result",
          "data": {
            "text/plain": [
              "   order_id                       name          ordered_at  price  quantity  \\\n",
              "0     10000    ICE CREAM  Peanut Fudge 2018-01-01 11:30:00    3.5         3   \n",
              "1     10000    ICE CREAM  Peanut Fudge 2018-01-01 11:30:00    3.5         1   \n",
              "2     10001          SORBET  Raspberry 2018-01-01 12:14:54    2.5         2   \n",
              "4     10001   CONE  Dipped Waffle Cone 2018-01-01 12:14:54    3.5         1   \n",
              "5     10002             SORBET  Lychee 2018-01-01 12:23:09    3.0         1   \n",
              "\n",
              "  line_total  \n",
              "0     $10.50  \n",
              "1      $3.50  \n",
              "2      $5.00  \n",
              "4      $3.50  \n",
              "5      $3.00  "
            ],
            "text/html": [
              "\n",
              "  <div id=\"df-69dabdcb-6a08-461b-940d-180128358b3b\">\n",
              "    <div class=\"colab-df-container\">\n",
              "      <div>\n",
              "<style scoped>\n",
              "    .dataframe tbody tr th:only-of-type {\n",
              "        vertical-align: middle;\n",
              "    }\n",
              "\n",
              "    .dataframe tbody tr th {\n",
              "        vertical-align: top;\n",
              "    }\n",
              "\n",
              "    .dataframe thead th {\n",
              "        text-align: right;\n",
              "    }\n",
              "</style>\n",
              "<table border=\"1\" class=\"dataframe\">\n",
              "  <thead>\n",
              "    <tr style=\"text-align: right;\">\n",
              "      <th></th>\n",
              "      <th>order_id</th>\n",
              "      <th>name</th>\n",
              "      <th>ordered_at</th>\n",
              "      <th>price</th>\n",
              "      <th>quantity</th>\n",
              "      <th>line_total</th>\n",
              "    </tr>\n",
              "  </thead>\n",
              "  <tbody>\n",
              "    <tr>\n",
              "      <th>0</th>\n",
              "      <td>10000</td>\n",
              "      <td>ICE CREAM  Peanut Fudge</td>\n",
              "      <td>2018-01-01 11:30:00</td>\n",
              "      <td>3.5</td>\n",
              "      <td>3</td>\n",
              "      <td>$10.50</td>\n",
              "    </tr>\n",
              "    <tr>\n",
              "      <th>1</th>\n",
              "      <td>10000</td>\n",
              "      <td>ICE CREAM  Peanut Fudge</td>\n",
              "      <td>2018-01-01 11:30:00</td>\n",
              "      <td>3.5</td>\n",
              "      <td>1</td>\n",
              "      <td>$3.50</td>\n",
              "    </tr>\n",
              "    <tr>\n",
              "      <th>2</th>\n",
              "      <td>10001</td>\n",
              "      <td>SORBET  Raspberry</td>\n",
              "      <td>2018-01-01 12:14:54</td>\n",
              "      <td>2.5</td>\n",
              "      <td>2</td>\n",
              "      <td>$5.00</td>\n",
              "    </tr>\n",
              "    <tr>\n",
              "      <th>4</th>\n",
              "      <td>10001</td>\n",
              "      <td>CONE  Dipped Waffle Cone</td>\n",
              "      <td>2018-01-01 12:14:54</td>\n",
              "      <td>3.5</td>\n",
              "      <td>1</td>\n",
              "      <td>$3.50</td>\n",
              "    </tr>\n",
              "    <tr>\n",
              "      <th>5</th>\n",
              "      <td>10002</td>\n",
              "      <td>SORBET  Lychee</td>\n",
              "      <td>2018-01-01 12:23:09</td>\n",
              "      <td>3.0</td>\n",
              "      <td>1</td>\n",
              "      <td>$3.00</td>\n",
              "    </tr>\n",
              "  </tbody>\n",
              "</table>\n",
              "</div>\n",
              "      <button class=\"colab-df-convert\" onclick=\"convertToInteractive('df-69dabdcb-6a08-461b-940d-180128358b3b')\"\n",
              "              title=\"Convert this dataframe to an interactive table.\"\n",
              "              style=\"display:none;\">\n",
              "        \n",
              "  <svg xmlns=\"http://www.w3.org/2000/svg\" height=\"24px\"viewBox=\"0 0 24 24\"\n",
              "       width=\"24px\">\n",
              "    <path d=\"M0 0h24v24H0V0z\" fill=\"none\"/>\n",
              "    <path d=\"M18.56 5.44l.94 2.06.94-2.06 2.06-.94-2.06-.94-.94-2.06-.94 2.06-2.06.94zm-11 1L8.5 8.5l.94-2.06 2.06-.94-2.06-.94L8.5 2.5l-.94 2.06-2.06.94zm10 10l.94 2.06.94-2.06 2.06-.94-2.06-.94-.94-2.06-.94 2.06-2.06.94z\"/><path d=\"M17.41 7.96l-1.37-1.37c-.4-.4-.92-.59-1.43-.59-.52 0-1.04.2-1.43.59L10.3 9.45l-7.72 7.72c-.78.78-.78 2.05 0 2.83L4 21.41c.39.39.9.59 1.41.59.51 0 1.02-.2 1.41-.59l7.78-7.78 2.81-2.81c.8-.78.8-2.07 0-2.86zM5.41 20L4 18.59l7.72-7.72 1.47 1.35L5.41 20z\"/>\n",
              "  </svg>\n",
              "      </button>\n",
              "      \n",
              "  <style>\n",
              "    .colab-df-container {\n",
              "      display:flex;\n",
              "      flex-wrap:wrap;\n",
              "      gap: 12px;\n",
              "    }\n",
              "\n",
              "    .colab-df-convert {\n",
              "      background-color: #E8F0FE;\n",
              "      border: none;\n",
              "      border-radius: 50%;\n",
              "      cursor: pointer;\n",
              "      display: none;\n",
              "      fill: #1967D2;\n",
              "      height: 32px;\n",
              "      padding: 0 0 0 0;\n",
              "      width: 32px;\n",
              "    }\n",
              "\n",
              "    .colab-df-convert:hover {\n",
              "      background-color: #E2EBFA;\n",
              "      box-shadow: 0px 1px 2px rgba(60, 64, 67, 0.3), 0px 1px 3px 1px rgba(60, 64, 67, 0.15);\n",
              "      fill: #174EA6;\n",
              "    }\n",
              "\n",
              "    [theme=dark] .colab-df-convert {\n",
              "      background-color: #3B4455;\n",
              "      fill: #D2E3FC;\n",
              "    }\n",
              "\n",
              "    [theme=dark] .colab-df-convert:hover {\n",
              "      background-color: #434B5C;\n",
              "      box-shadow: 0px 1px 3px 1px rgba(0, 0, 0, 0.15);\n",
              "      filter: drop-shadow(0px 1px 2px rgba(0, 0, 0, 0.3));\n",
              "      fill: #FFFFFF;\n",
              "    }\n",
              "  </style>\n",
              "\n",
              "      <script>\n",
              "        const buttonEl =\n",
              "          document.querySelector('#df-69dabdcb-6a08-461b-940d-180128358b3b button.colab-df-convert');\n",
              "        buttonEl.style.display =\n",
              "          google.colab.kernel.accessAllowed ? 'block' : 'none';\n",
              "\n",
              "        async function convertToInteractive(key) {\n",
              "          const element = document.querySelector('#df-69dabdcb-6a08-461b-940d-180128358b3b');\n",
              "          const dataTable =\n",
              "            await google.colab.kernel.invokeFunction('convertToInteractive',\n",
              "                                                     [key], {});\n",
              "          if (!dataTable) return;\n",
              "\n",
              "          const docLinkHtml = 'Like what you see? Visit the ' +\n",
              "            '<a target=\"_blank\" href=https://colab.research.google.com/notebooks/data_table.ipynb>data table notebook</a>'\n",
              "            + ' to learn more about interactive tables.';\n",
              "          element.innerHTML = '';\n",
              "          dataTable['output_type'] = 'display_data';\n",
              "          await google.colab.output.renderOutput(dataTable, element);\n",
              "          const docLink = document.createElement('div');\n",
              "          docLink.innerHTML = docLinkHtml;\n",
              "          element.appendChild(docLink);\n",
              "        }\n",
              "      </script>\n",
              "    </div>\n",
              "  </div>\n",
              "  "
            ]
          },
          "metadata": {},
          "execution_count": 82
        }
      ]
    },
    {
      "cell_type": "code",
      "source": [
        "import pandas as pd"
      ],
      "metadata": {
        "id": "zULu2T9fwUO5"
      },
      "execution_count": null,
      "outputs": []
    },
    {
      "cell_type": "code",
      "source": [
        "data = pd.read_csv('job-market.csv')"
      ],
      "metadata": {
        "id": "tDPVCBvkwSYu"
      },
      "execution_count": null,
      "outputs": []
    },
    {
      "cell_type": "code",
      "source": [
        "data.head(10)"
      ],
      "metadata": {
        "colab": {
          "base_uri": "https://localhost:8080/",
          "height": 997
        },
        "id": "pbp2mqi7wR6Q",
        "outputId": "920e6d18-a594-4a02-bbea-446f11d99435"
      },
      "execution_count": null,
      "outputs": [
        {
          "output_type": "execute_result",
          "data": {
            "text/plain": [
              "           Id                                              Title  \\\n",
              "0  37404348.0                           Casual Stock Replenisher   \n",
              "1  37404337.0                           Casual Stock Replenisher   \n",
              "2  37404356.0  RETAIL SALES SUPERSTARS and STYLISTS Wanted - ...   \n",
              "3  37404330.0                              Team member - Belrose   \n",
              "4  37404308.0  Business Banking Contact Centre Specialist, Ni...   \n",
              "5  37404307.0  Business Banking Contact Centre Specialist, Ni...   \n",
              "6  37404355.0               Casual Café All-rounder in Semaphore   \n",
              "7  37404350.0           Casual Café All-rounder in Woolloongabba   \n",
              "8  37404301.0                                       Telemarketer   \n",
              "9  37404286.0                       Casual Dish Hand in Brighton   \n",
              "\n",
              "                                          Company                      Date  \\\n",
              "0                                     Aldi Stores  2018-10-07T00:00:00.000Z   \n",
              "1                                     Aldi Stores  2018-10-07T00:00:00.000Z   \n",
              "2                             LB Creative Pty Ltd  2018-10-07T00:00:00.000Z   \n",
              "3                          Anaconda Group Pty Ltd  2018-10-07T00:00:00.000Z   \n",
              "4  Commonwealth Bank - Business & Private Banking  2018-10-07T00:00:00.000Z   \n",
              "5  Commonwealth Bank - Business & Private Banking  2018-10-07T00:00:00.000Z   \n",
              "6                                      Jora Local  2018-10-07T00:00:00.000Z   \n",
              "7                                      Jora Local  2018-10-07T00:00:00.000Z   \n",
              "8                            Reventon Investments  2018-10-07T00:00:00.000Z   \n",
              "9                                      Jora Local  2018-10-07T00:00:00.000Z   \n",
              "\n",
              "                  Location                             Area  \\\n",
              "0                   Sydney      North West & Hills District   \n",
              "1    Richmond & Hawkesbury                              NaN   \n",
              "2                 Brisbane              CBD & Inner Suburbs   \n",
              "3  Gosford & Central Coast                              NaN   \n",
              "4                   Sydney            Ryde & Macquarie Park   \n",
              "5                   Sydney            Ryde & Macquarie Park   \n",
              "6                 Adelaide                              NaN   \n",
              "7                 Brisbane              CBD & Inner Suburbs   \n",
              "8                Melbourne              CBD & Inner Suburbs   \n",
              "9                Melbourne  Bayside & South Eastern Suburbs   \n",
              "\n",
              "                   Classification               SubClassification  \\\n",
              "0      Retail & Consumer Products               Retail Assistants   \n",
              "1      Retail & Consumer Products               Retail Assistants   \n",
              "2      Retail & Consumer Products               Retail Assistants   \n",
              "3      Retail & Consumer Products               Retail Assistants   \n",
              "4  Call Centre & Customer Service                 Sales - Inbound   \n",
              "5  Call Centre & Customer Service  Customer Service - Call Centre   \n",
              "6           Hospitality & Tourism                   Waiting Staff   \n",
              "7           Hospitality & Tourism                   Waiting Staff   \n",
              "8  Call Centre & Customer Service                Sales - Outbound   \n",
              "9           Hospitality & Tourism        Kitchen & Sandwich Hands   \n",
              "\n",
              "                                         Requirement FullDescription  \\\n",
              "0  Our Casual Stock Replenishers pride themselves...             NaN   \n",
              "1  Our Casual Stock Replenishers pride themselves...             NaN   \n",
              "2  BRAND NEW FLAGSHIP STORE OPENING - SUNSHINE PLAZA             NaN   \n",
              "3  Bring it on - do you love the great outdoors a...             NaN   \n",
              "4  We are seeking highly articulate, enthusiastic...             NaN   \n",
              "5  We are seeking highly articulate, enthusiastic...             NaN   \n",
              "6  A cafe/restaurant in Semaphore is seeking a ca...             NaN   \n",
              "7  A cafe in Woolloongabba is seeking a casual Ca...             NaN   \n",
              "8  Market leading investment & financial services...             NaN   \n",
              "9  A restaurant in Brighton is seeking a casual D...             NaN   \n",
              "\n",
              "   LowestSalary  HighestSalary JobType  \n",
              "0           0.0           30.0     NaN  \n",
              "1           0.0           30.0     NaN  \n",
              "2           0.0           30.0     NaN  \n",
              "3           0.0           30.0     NaN  \n",
              "4           0.0           30.0     NaN  \n",
              "5           0.0           30.0     NaN  \n",
              "6           0.0           30.0     NaN  \n",
              "7           0.0           30.0     NaN  \n",
              "8           0.0           30.0     NaN  \n",
              "9           0.0           30.0     NaN  "
            ],
            "text/html": [
              "\n",
              "  <div id=\"df-91dce8fc-ae40-449c-977f-018d853028f4\">\n",
              "    <div class=\"colab-df-container\">\n",
              "      <div>\n",
              "<style scoped>\n",
              "    .dataframe tbody tr th:only-of-type {\n",
              "        vertical-align: middle;\n",
              "    }\n",
              "\n",
              "    .dataframe tbody tr th {\n",
              "        vertical-align: top;\n",
              "    }\n",
              "\n",
              "    .dataframe thead th {\n",
              "        text-align: right;\n",
              "    }\n",
              "</style>\n",
              "<table border=\"1\" class=\"dataframe\">\n",
              "  <thead>\n",
              "    <tr style=\"text-align: right;\">\n",
              "      <th></th>\n",
              "      <th>Id</th>\n",
              "      <th>Title</th>\n",
              "      <th>Company</th>\n",
              "      <th>Date</th>\n",
              "      <th>Location</th>\n",
              "      <th>Area</th>\n",
              "      <th>Classification</th>\n",
              "      <th>SubClassification</th>\n",
              "      <th>Requirement</th>\n",
              "      <th>FullDescription</th>\n",
              "      <th>LowestSalary</th>\n",
              "      <th>HighestSalary</th>\n",
              "      <th>JobType</th>\n",
              "    </tr>\n",
              "  </thead>\n",
              "  <tbody>\n",
              "    <tr>\n",
              "      <th>0</th>\n",
              "      <td>37404348.0</td>\n",
              "      <td>Casual Stock Replenisher</td>\n",
              "      <td>Aldi Stores</td>\n",
              "      <td>2018-10-07T00:00:00.000Z</td>\n",
              "      <td>Sydney</td>\n",
              "      <td>North West &amp; Hills District</td>\n",
              "      <td>Retail &amp; Consumer Products</td>\n",
              "      <td>Retail Assistants</td>\n",
              "      <td>Our Casual Stock Replenishers pride themselves...</td>\n",
              "      <td>NaN</td>\n",
              "      <td>0.0</td>\n",
              "      <td>30.0</td>\n",
              "      <td>NaN</td>\n",
              "    </tr>\n",
              "    <tr>\n",
              "      <th>1</th>\n",
              "      <td>37404337.0</td>\n",
              "      <td>Casual Stock Replenisher</td>\n",
              "      <td>Aldi Stores</td>\n",
              "      <td>2018-10-07T00:00:00.000Z</td>\n",
              "      <td>Richmond &amp; Hawkesbury</td>\n",
              "      <td>NaN</td>\n",
              "      <td>Retail &amp; Consumer Products</td>\n",
              "      <td>Retail Assistants</td>\n",
              "      <td>Our Casual Stock Replenishers pride themselves...</td>\n",
              "      <td>NaN</td>\n",
              "      <td>0.0</td>\n",
              "      <td>30.0</td>\n",
              "      <td>NaN</td>\n",
              "    </tr>\n",
              "    <tr>\n",
              "      <th>2</th>\n",
              "      <td>37404356.0</td>\n",
              "      <td>RETAIL SALES SUPERSTARS and STYLISTS Wanted - ...</td>\n",
              "      <td>LB Creative Pty Ltd</td>\n",
              "      <td>2018-10-07T00:00:00.000Z</td>\n",
              "      <td>Brisbane</td>\n",
              "      <td>CBD &amp; Inner Suburbs</td>\n",
              "      <td>Retail &amp; Consumer Products</td>\n",
              "      <td>Retail Assistants</td>\n",
              "      <td>BRAND NEW FLAGSHIP STORE OPENING - SUNSHINE PLAZA</td>\n",
              "      <td>NaN</td>\n",
              "      <td>0.0</td>\n",
              "      <td>30.0</td>\n",
              "      <td>NaN</td>\n",
              "    </tr>\n",
              "    <tr>\n",
              "      <th>3</th>\n",
              "      <td>37404330.0</td>\n",
              "      <td>Team member - Belrose</td>\n",
              "      <td>Anaconda Group Pty Ltd</td>\n",
              "      <td>2018-10-07T00:00:00.000Z</td>\n",
              "      <td>Gosford &amp; Central Coast</td>\n",
              "      <td>NaN</td>\n",
              "      <td>Retail &amp; Consumer Products</td>\n",
              "      <td>Retail Assistants</td>\n",
              "      <td>Bring it on - do you love the great outdoors a...</td>\n",
              "      <td>NaN</td>\n",
              "      <td>0.0</td>\n",
              "      <td>30.0</td>\n",
              "      <td>NaN</td>\n",
              "    </tr>\n",
              "    <tr>\n",
              "      <th>4</th>\n",
              "      <td>37404308.0</td>\n",
              "      <td>Business Banking Contact Centre Specialist, Ni...</td>\n",
              "      <td>Commonwealth Bank - Business &amp; Private Banking</td>\n",
              "      <td>2018-10-07T00:00:00.000Z</td>\n",
              "      <td>Sydney</td>\n",
              "      <td>Ryde &amp; Macquarie Park</td>\n",
              "      <td>Call Centre &amp; Customer Service</td>\n",
              "      <td>Sales - Inbound</td>\n",
              "      <td>We are seeking highly articulate, enthusiastic...</td>\n",
              "      <td>NaN</td>\n",
              "      <td>0.0</td>\n",
              "      <td>30.0</td>\n",
              "      <td>NaN</td>\n",
              "    </tr>\n",
              "    <tr>\n",
              "      <th>5</th>\n",
              "      <td>37404307.0</td>\n",
              "      <td>Business Banking Contact Centre Specialist, Ni...</td>\n",
              "      <td>Commonwealth Bank - Business &amp; Private Banking</td>\n",
              "      <td>2018-10-07T00:00:00.000Z</td>\n",
              "      <td>Sydney</td>\n",
              "      <td>Ryde &amp; Macquarie Park</td>\n",
              "      <td>Call Centre &amp; Customer Service</td>\n",
              "      <td>Customer Service - Call Centre</td>\n",
              "      <td>We are seeking highly articulate, enthusiastic...</td>\n",
              "      <td>NaN</td>\n",
              "      <td>0.0</td>\n",
              "      <td>30.0</td>\n",
              "      <td>NaN</td>\n",
              "    </tr>\n",
              "    <tr>\n",
              "      <th>6</th>\n",
              "      <td>37404355.0</td>\n",
              "      <td>Casual Café All-rounder in Semaphore</td>\n",
              "      <td>Jora Local</td>\n",
              "      <td>2018-10-07T00:00:00.000Z</td>\n",
              "      <td>Adelaide</td>\n",
              "      <td>NaN</td>\n",
              "      <td>Hospitality &amp; Tourism</td>\n",
              "      <td>Waiting Staff</td>\n",
              "      <td>A cafe/restaurant in Semaphore is seeking a ca...</td>\n",
              "      <td>NaN</td>\n",
              "      <td>0.0</td>\n",
              "      <td>30.0</td>\n",
              "      <td>NaN</td>\n",
              "    </tr>\n",
              "    <tr>\n",
              "      <th>7</th>\n",
              "      <td>37404350.0</td>\n",
              "      <td>Casual Café All-rounder in Woolloongabba</td>\n",
              "      <td>Jora Local</td>\n",
              "      <td>2018-10-07T00:00:00.000Z</td>\n",
              "      <td>Brisbane</td>\n",
              "      <td>CBD &amp; Inner Suburbs</td>\n",
              "      <td>Hospitality &amp; Tourism</td>\n",
              "      <td>Waiting Staff</td>\n",
              "      <td>A cafe in Woolloongabba is seeking a casual Ca...</td>\n",
              "      <td>NaN</td>\n",
              "      <td>0.0</td>\n",
              "      <td>30.0</td>\n",
              "      <td>NaN</td>\n",
              "    </tr>\n",
              "    <tr>\n",
              "      <th>8</th>\n",
              "      <td>37404301.0</td>\n",
              "      <td>Telemarketer</td>\n",
              "      <td>Reventon Investments</td>\n",
              "      <td>2018-10-07T00:00:00.000Z</td>\n",
              "      <td>Melbourne</td>\n",
              "      <td>CBD &amp; Inner Suburbs</td>\n",
              "      <td>Call Centre &amp; Customer Service</td>\n",
              "      <td>Sales - Outbound</td>\n",
              "      <td>Market leading investment &amp; financial services...</td>\n",
              "      <td>NaN</td>\n",
              "      <td>0.0</td>\n",
              "      <td>30.0</td>\n",
              "      <td>NaN</td>\n",
              "    </tr>\n",
              "    <tr>\n",
              "      <th>9</th>\n",
              "      <td>37404286.0</td>\n",
              "      <td>Casual Dish Hand in Brighton</td>\n",
              "      <td>Jora Local</td>\n",
              "      <td>2018-10-07T00:00:00.000Z</td>\n",
              "      <td>Melbourne</td>\n",
              "      <td>Bayside &amp; South Eastern Suburbs</td>\n",
              "      <td>Hospitality &amp; Tourism</td>\n",
              "      <td>Kitchen &amp; Sandwich Hands</td>\n",
              "      <td>A restaurant in Brighton is seeking a casual D...</td>\n",
              "      <td>NaN</td>\n",
              "      <td>0.0</td>\n",
              "      <td>30.0</td>\n",
              "      <td>NaN</td>\n",
              "    </tr>\n",
              "  </tbody>\n",
              "</table>\n",
              "</div>\n",
              "      <button class=\"colab-df-convert\" onclick=\"convertToInteractive('df-91dce8fc-ae40-449c-977f-018d853028f4')\"\n",
              "              title=\"Convert this dataframe to an interactive table.\"\n",
              "              style=\"display:none;\">\n",
              "        \n",
              "  <svg xmlns=\"http://www.w3.org/2000/svg\" height=\"24px\"viewBox=\"0 0 24 24\"\n",
              "       width=\"24px\">\n",
              "    <path d=\"M0 0h24v24H0V0z\" fill=\"none\"/>\n",
              "    <path d=\"M18.56 5.44l.94 2.06.94-2.06 2.06-.94-2.06-.94-.94-2.06-.94 2.06-2.06.94zm-11 1L8.5 8.5l.94-2.06 2.06-.94-2.06-.94L8.5 2.5l-.94 2.06-2.06.94zm10 10l.94 2.06.94-2.06 2.06-.94-2.06-.94-.94-2.06-.94 2.06-2.06.94z\"/><path d=\"M17.41 7.96l-1.37-1.37c-.4-.4-.92-.59-1.43-.59-.52 0-1.04.2-1.43.59L10.3 9.45l-7.72 7.72c-.78.78-.78 2.05 0 2.83L4 21.41c.39.39.9.59 1.41.59.51 0 1.02-.2 1.41-.59l7.78-7.78 2.81-2.81c.8-.78.8-2.07 0-2.86zM5.41 20L4 18.59l7.72-7.72 1.47 1.35L5.41 20z\"/>\n",
              "  </svg>\n",
              "      </button>\n",
              "      \n",
              "  <style>\n",
              "    .colab-df-container {\n",
              "      display:flex;\n",
              "      flex-wrap:wrap;\n",
              "      gap: 12px;\n",
              "    }\n",
              "\n",
              "    .colab-df-convert {\n",
              "      background-color: #E8F0FE;\n",
              "      border: none;\n",
              "      border-radius: 50%;\n",
              "      cursor: pointer;\n",
              "      display: none;\n",
              "      fill: #1967D2;\n",
              "      height: 32px;\n",
              "      padding: 0 0 0 0;\n",
              "      width: 32px;\n",
              "    }\n",
              "\n",
              "    .colab-df-convert:hover {\n",
              "      background-color: #E2EBFA;\n",
              "      box-shadow: 0px 1px 2px rgba(60, 64, 67, 0.3), 0px 1px 3px 1px rgba(60, 64, 67, 0.15);\n",
              "      fill: #174EA6;\n",
              "    }\n",
              "\n",
              "    [theme=dark] .colab-df-convert {\n",
              "      background-color: #3B4455;\n",
              "      fill: #D2E3FC;\n",
              "    }\n",
              "\n",
              "    [theme=dark] .colab-df-convert:hover {\n",
              "      background-color: #434B5C;\n",
              "      box-shadow: 0px 1px 3px 1px rgba(0, 0, 0, 0.15);\n",
              "      filter: drop-shadow(0px 1px 2px rgba(0, 0, 0, 0.3));\n",
              "      fill: #FFFFFF;\n",
              "    }\n",
              "  </style>\n",
              "\n",
              "      <script>\n",
              "        const buttonEl =\n",
              "          document.querySelector('#df-91dce8fc-ae40-449c-977f-018d853028f4 button.colab-df-convert');\n",
              "        buttonEl.style.display =\n",
              "          google.colab.kernel.accessAllowed ? 'block' : 'none';\n",
              "\n",
              "        async function convertToInteractive(key) {\n",
              "          const element = document.querySelector('#df-91dce8fc-ae40-449c-977f-018d853028f4');\n",
              "          const dataTable =\n",
              "            await google.colab.kernel.invokeFunction('convertToInteractive',\n",
              "                                                     [key], {});\n",
              "          if (!dataTable) return;\n",
              "\n",
              "          const docLinkHtml = 'Like what you see? Visit the ' +\n",
              "            '<a target=\"_blank\" href=https://colab.research.google.com/notebooks/data_table.ipynb>data table notebook</a>'\n",
              "            + ' to learn more about interactive tables.';\n",
              "          element.innerHTML = '';\n",
              "          dataTable['output_type'] = 'display_data';\n",
              "          await google.colab.output.renderOutput(dataTable, element);\n",
              "          const docLink = document.createElement('div');\n",
              "          docLink.innerHTML = docLinkHtml;\n",
              "          element.appendChild(docLink);\n",
              "        }\n",
              "      </script>\n",
              "    </div>\n",
              "  </div>\n",
              "  "
            ]
          },
          "metadata": {},
          "execution_count": 85
        }
      ]
    },
    {
      "cell_type": "code",
      "source": [
        "data.info()"
      ],
      "metadata": {
        "colab": {
          "base_uri": "https://localhost:8080/"
        },
        "id": "lBp64dhswRP9",
        "outputId": "31eaa1bd-e894-4438-b25d-0fa5fc96f518"
      },
      "execution_count": null,
      "outputs": [
        {
          "output_type": "stream",
          "name": "stdout",
          "text": [
            "<class 'pandas.core.frame.DataFrame'>\n",
            "RangeIndex: 40789 entries, 0 to 40788\n",
            "Data columns (total 13 columns):\n",
            " #   Column             Non-Null Count  Dtype  \n",
            "---  ------             --------------  -----  \n",
            " 0   Id                 10099 non-null  float64\n",
            " 1   Title              10099 non-null  object \n",
            " 2   Company            9483 non-null   object \n",
            " 3   Date               10099 non-null  object \n",
            " 4   Location           10099 non-null  object \n",
            " 5   Area               6392 non-null   object \n",
            " 6   Classification     10099 non-null  object \n",
            " 7   SubClassification  10099 non-null  object \n",
            " 8   Requirement        10099 non-null  object \n",
            " 9   FullDescription    9843 non-null   object \n",
            " 10  LowestSalary       10099 non-null  float64\n",
            " 11  HighestSalary      10099 non-null  float64\n",
            " 12  JobType            9852 non-null   object \n",
            "dtypes: float64(3), object(10)\n",
            "memory usage: 4.0+ MB\n"
          ]
        }
      ]
    },
    {
      "cell_type": "code",
      "source": [
        "data.dropna(inplace=True)"
      ],
      "metadata": {
        "id": "HC7yC4SzwQhN"
      },
      "execution_count": null,
      "outputs": []
    },
    {
      "cell_type": "code",
      "source": [
        "data.drop_duplicates(inplace=True)"
      ],
      "metadata": {
        "id": "q6QIDsYOwPXs"
      },
      "execution_count": null,
      "outputs": []
    },
    {
      "cell_type": "code",
      "source": [
        "import re"
      ],
      "metadata": {
        "id": "gAB52k06wNCp"
      },
      "execution_count": null,
      "outputs": []
    },
    {
      "cell_type": "code",
      "source": [
        "data['Id'] = data['Id'].astype(int)"
      ],
      "metadata": {
        "id": "CrFdZ1W-wI9m"
      },
      "execution_count": null,
      "outputs": []
    },
    {
      "cell_type": "code",
      "source": [
        "data['LowestSalary'] = data['LowestSalary'].astype(int)"
      ],
      "metadata": {
        "id": "KILCw-j3wHbo"
      },
      "execution_count": null,
      "outputs": []
    },
    {
      "cell_type": "code",
      "source": [
        "data['HighestSalary'] = data['HighestSalary'].astype(int)"
      ],
      "metadata": {
        "id": "HAwBygAMwGrd"
      },
      "execution_count": null,
      "outputs": []
    },
    {
      "cell_type": "code",
      "source": [
        "data['LowestSalary'] = pd.to_numeric(data['LowestSalary'], errors='coerce')"
      ],
      "metadata": {
        "id": "YyVtmslVwFIj"
      },
      "execution_count": null,
      "outputs": []
    },
    {
      "cell_type": "code",
      "source": [
        "data['HighestSalary'] = pd.to_numeric(data['HighestSalary'], errors='coerce')"
      ],
      "metadata": {
        "id": "IvMBrF3owEPw"
      },
      "execution_count": null,
      "outputs": []
    },
    {
      "cell_type": "code",
      "source": [
        "data['Date'] = pd.to_datetime(data['Date'], format='%Y-%m-%dT%H:%M:%S.%fZ')"
      ],
      "metadata": {
        "id": "G9yz1RVzwF2_"
      },
      "execution_count": null,
      "outputs": []
    },
    {
      "cell_type": "code",
      "source": [
        "print(data.info())"
      ],
      "metadata": {
        "id": "jHfyDCZfwAPT",
        "colab": {
          "base_uri": "https://localhost:8080/"
        },
        "outputId": "e4d6ffbe-e060-423a-9684-c44c81fbb8b0"
      },
      "execution_count": null,
      "outputs": [
        {
          "output_type": "stream",
          "name": "stdout",
          "text": [
            "<class 'pandas.core.frame.DataFrame'>\n",
            "Int64Index: 5898 entries, 121 to 10098\n",
            "Data columns (total 13 columns):\n",
            " #   Column             Non-Null Count  Dtype  \n",
            "---  ------             --------------  -----  \n",
            " 0   Id                 5898 non-null   int64  \n",
            " 1   Title              5898 non-null   object \n",
            " 2   Company            5898 non-null   object \n",
            " 3   Date               5898 non-null   object \n",
            " 4   Location           5898 non-null   object \n",
            " 5   Area               5898 non-null   object \n",
            " 6   Classification     5898 non-null   object \n",
            " 7   SubClassification  5898 non-null   object \n",
            " 8   Requirement        5898 non-null   object \n",
            " 9   FullDescription    5898 non-null   object \n",
            " 10  LowestSalary       5898 non-null   float64\n",
            " 11  HighestSalary      5898 non-null   float64\n",
            " 12  JobType            5898 non-null   object \n",
            "dtypes: float64(2), int64(1), object(10)\n",
            "memory usage: 645.1+ KB\n",
            "None\n"
          ]
        }
      ]
    },
    {
      "cell_type": "code",
      "source": [
        "print(data.describe())"
      ],
      "metadata": {
        "id": "sLA62-4Uv_xp",
        "colab": {
          "base_uri": "https://localhost:8080/"
        },
        "outputId": "f3a846fd-eb28-4bca-f7a1-b7993e9c05f2"
      },
      "execution_count": null,
      "outputs": [
        {
          "output_type": "stream",
          "name": "stdout",
          "text": [
            "                 Id  LowestSalary  HighestSalary\n",
            "count  5.898000e+03   5898.000000    5898.000000\n",
            "mean   3.739050e+07     24.560868      42.390641\n",
            "std    2.780707e+04     20.621646      11.656813\n",
            "min    3.679829e+07      0.000000      30.000000\n",
            "25%    3.738720e+07      0.000000      30.000000\n",
            "50%    3.739687e+07     30.000000      40.000000\n",
            "75%    3.740149e+07     40.000000      50.000000\n",
            "max    3.740440e+07     50.000000      60.000000\n"
          ]
        }
      ]
    },
    {
      "cell_type": "code",
      "source": [
        "print(data.isnull().sum())"
      ],
      "metadata": {
        "id": "1CjdY9Jjv_RO",
        "colab": {
          "base_uri": "https://localhost:8080/"
        },
        "outputId": "ec0fd834-b4d2-4368-f37b-cadb81c8b932"
      },
      "execution_count": null,
      "outputs": [
        {
          "output_type": "stream",
          "name": "stdout",
          "text": [
            "Id                   0\n",
            "Title                0\n",
            "Company              0\n",
            "Date                 0\n",
            "Location             0\n",
            "Area                 0\n",
            "Classification       0\n",
            "SubClassification    0\n",
            "Requirement          0\n",
            "FullDescription      0\n",
            "LowestSalary         0\n",
            "HighestSalary        0\n",
            "JobType              0\n",
            "dtype: int64\n"
          ]
        }
      ]
    },
    {
      "cell_type": "code",
      "source": [
        "data.head(5)"
      ],
      "metadata": {
        "id": "CBvnHQobv-cQ",
        "colab": {
          "base_uri": "https://localhost:8080/",
          "height": 617
        },
        "outputId": "ab02434d-184b-4cc5-cb3b-1675dff4959c"
      },
      "execution_count": null,
      "outputs": [
        {
          "output_type": "execute_result",
          "data": {
            "text/plain": [
              "           Id                                         Title  \\\n",
              "121  37404238                          Fabricator/Installer   \n",
              "122  37404195                                   Boilermaker   \n",
              "125  37404288  Casual Childcare Positions  | Bondi Junction   \n",
              "126  37404267                                    Technician   \n",
              "127  37404230                              Systems Engineer   \n",
              "\n",
              "                         Company                      Date   Location  \\\n",
              "121    WORKPLACE ACCESS & SAFETY  2018-10-07T00:00:00.000Z  Melbourne   \n",
              "122      RPM Contracting QLD P/l  2018-10-07T00:00:00.000Z   Brisbane   \n",
              "125              anzuk Education  2018-10-07T00:00:00.000Z     Sydney   \n",
              "126  Zoom Recruitment & Training  2018-10-07T00:00:00.000Z     Sydney   \n",
              "127              Humanised Group  2018-10-07T00:00:00.000Z   Brisbane   \n",
              "\n",
              "                                  Area  \\\n",
              "121    Bayside & South Eastern Suburbs   \n",
              "122           Southern Suburbs & Logan   \n",
              "125  CBD, Inner West & Eastern Suburbs   \n",
              "126           South West & M5 Corridor   \n",
              "127                CBD & Inner Suburbs   \n",
              "\n",
              "                             Classification  \\\n",
              "121                       Trades & Services   \n",
              "122                       Trades & Services   \n",
              "125                    Education & Training   \n",
              "126                             Engineering   \n",
              "127  Information & Communication Technology   \n",
              "\n",
              "                     SubClassification  \\\n",
              "121             Welders & Boilermakers   \n",
              "122             Welders & Boilermakers   \n",
              "125         Teaching - Early Childhood   \n",
              "126             Mechanical Engineering   \n",
              "127  Networks & Systems Administration   \n",
              "\n",
              "                                           Requirement  \\\n",
              "121  Trade qualified person with skills in welding ...   \n",
              "122  Perm rate $30. Structural steel fab & weld out...   \n",
              "125  anzuk education are searching for reliable, en...   \n",
              "126  This Australian Icon, connects the people of t...   \n",
              "127  Systems Engineer to work on BAU/Projects for a...   \n",
              "\n",
              "                                       FullDescription  LowestSalary  \\\n",
              "121  <p>&nbsp;</p>\\n        <p><strong><em>*&nbsp; ...           0.0   \n",
              "122  <p>One of Australia's best engineering worksho...           0.0   \n",
              "125  <p style=\"text-align:center;\"><strong>What is ...           0.0   \n",
              "126  <p>This Australian Icon, connects the people o...           0.0   \n",
              "127  <strong>The Company</strong><br> <br> This org...           0.0   \n",
              "\n",
              "     HighestSalary        JobType  \n",
              "121           30.0      Full Time  \n",
              "122           30.0      Full Time  \n",
              "125           30.0  Contract/Temp  \n",
              "126           30.0      Full Time  \n",
              "127           30.0      Full Time  "
            ],
            "text/html": [
              "\n",
              "  <div id=\"df-f0e9e833-e16e-4915-b766-191f7ddc43c5\">\n",
              "    <div class=\"colab-df-container\">\n",
              "      <div>\n",
              "<style scoped>\n",
              "    .dataframe tbody tr th:only-of-type {\n",
              "        vertical-align: middle;\n",
              "    }\n",
              "\n",
              "    .dataframe tbody tr th {\n",
              "        vertical-align: top;\n",
              "    }\n",
              "\n",
              "    .dataframe thead th {\n",
              "        text-align: right;\n",
              "    }\n",
              "</style>\n",
              "<table border=\"1\" class=\"dataframe\">\n",
              "  <thead>\n",
              "    <tr style=\"text-align: right;\">\n",
              "      <th></th>\n",
              "      <th>Id</th>\n",
              "      <th>Title</th>\n",
              "      <th>Company</th>\n",
              "      <th>Date</th>\n",
              "      <th>Location</th>\n",
              "      <th>Area</th>\n",
              "      <th>Classification</th>\n",
              "      <th>SubClassification</th>\n",
              "      <th>Requirement</th>\n",
              "      <th>FullDescription</th>\n",
              "      <th>LowestSalary</th>\n",
              "      <th>HighestSalary</th>\n",
              "      <th>JobType</th>\n",
              "    </tr>\n",
              "  </thead>\n",
              "  <tbody>\n",
              "    <tr>\n",
              "      <th>121</th>\n",
              "      <td>37404238</td>\n",
              "      <td>Fabricator/Installer</td>\n",
              "      <td>WORKPLACE ACCESS &amp; SAFETY</td>\n",
              "      <td>2018-10-07T00:00:00.000Z</td>\n",
              "      <td>Melbourne</td>\n",
              "      <td>Bayside &amp; South Eastern Suburbs</td>\n",
              "      <td>Trades &amp; Services</td>\n",
              "      <td>Welders &amp; Boilermakers</td>\n",
              "      <td>Trade qualified person with skills in welding ...</td>\n",
              "      <td>&lt;p&gt;&amp;nbsp;&lt;/p&gt;\\n        &lt;p&gt;&lt;strong&gt;&lt;em&gt;*&amp;nbsp; ...</td>\n",
              "      <td>0.0</td>\n",
              "      <td>30.0</td>\n",
              "      <td>Full Time</td>\n",
              "    </tr>\n",
              "    <tr>\n",
              "      <th>122</th>\n",
              "      <td>37404195</td>\n",
              "      <td>Boilermaker</td>\n",
              "      <td>RPM Contracting QLD P/l</td>\n",
              "      <td>2018-10-07T00:00:00.000Z</td>\n",
              "      <td>Brisbane</td>\n",
              "      <td>Southern Suburbs &amp; Logan</td>\n",
              "      <td>Trades &amp; Services</td>\n",
              "      <td>Welders &amp; Boilermakers</td>\n",
              "      <td>Perm rate $30. Structural steel fab &amp; weld out...</td>\n",
              "      <td>&lt;p&gt;One of Australia's best engineering worksho...</td>\n",
              "      <td>0.0</td>\n",
              "      <td>30.0</td>\n",
              "      <td>Full Time</td>\n",
              "    </tr>\n",
              "    <tr>\n",
              "      <th>125</th>\n",
              "      <td>37404288</td>\n",
              "      <td>Casual Childcare Positions  | Bondi Junction</td>\n",
              "      <td>anzuk Education</td>\n",
              "      <td>2018-10-07T00:00:00.000Z</td>\n",
              "      <td>Sydney</td>\n",
              "      <td>CBD, Inner West &amp; Eastern Suburbs</td>\n",
              "      <td>Education &amp; Training</td>\n",
              "      <td>Teaching - Early Childhood</td>\n",
              "      <td>anzuk education are searching for reliable, en...</td>\n",
              "      <td>&lt;p style=\"text-align:center;\"&gt;&lt;strong&gt;What is ...</td>\n",
              "      <td>0.0</td>\n",
              "      <td>30.0</td>\n",
              "      <td>Contract/Temp</td>\n",
              "    </tr>\n",
              "    <tr>\n",
              "      <th>126</th>\n",
              "      <td>37404267</td>\n",
              "      <td>Technician</td>\n",
              "      <td>Zoom Recruitment &amp; Training</td>\n",
              "      <td>2018-10-07T00:00:00.000Z</td>\n",
              "      <td>Sydney</td>\n",
              "      <td>South West &amp; M5 Corridor</td>\n",
              "      <td>Engineering</td>\n",
              "      <td>Mechanical Engineering</td>\n",
              "      <td>This Australian Icon, connects the people of t...</td>\n",
              "      <td>&lt;p&gt;This Australian Icon, connects the people o...</td>\n",
              "      <td>0.0</td>\n",
              "      <td>30.0</td>\n",
              "      <td>Full Time</td>\n",
              "    </tr>\n",
              "    <tr>\n",
              "      <th>127</th>\n",
              "      <td>37404230</td>\n",
              "      <td>Systems Engineer</td>\n",
              "      <td>Humanised Group</td>\n",
              "      <td>2018-10-07T00:00:00.000Z</td>\n",
              "      <td>Brisbane</td>\n",
              "      <td>CBD &amp; Inner Suburbs</td>\n",
              "      <td>Information &amp; Communication Technology</td>\n",
              "      <td>Networks &amp; Systems Administration</td>\n",
              "      <td>Systems Engineer to work on BAU/Projects for a...</td>\n",
              "      <td>&lt;strong&gt;The Company&lt;/strong&gt;&lt;br&gt; &lt;br&gt; This org...</td>\n",
              "      <td>0.0</td>\n",
              "      <td>30.0</td>\n",
              "      <td>Full Time</td>\n",
              "    </tr>\n",
              "  </tbody>\n",
              "</table>\n",
              "</div>\n",
              "      <button class=\"colab-df-convert\" onclick=\"convertToInteractive('df-f0e9e833-e16e-4915-b766-191f7ddc43c5')\"\n",
              "              title=\"Convert this dataframe to an interactive table.\"\n",
              "              style=\"display:none;\">\n",
              "        \n",
              "  <svg xmlns=\"http://www.w3.org/2000/svg\" height=\"24px\"viewBox=\"0 0 24 24\"\n",
              "       width=\"24px\">\n",
              "    <path d=\"M0 0h24v24H0V0z\" fill=\"none\"/>\n",
              "    <path d=\"M18.56 5.44l.94 2.06.94-2.06 2.06-.94-2.06-.94-.94-2.06-.94 2.06-2.06.94zm-11 1L8.5 8.5l.94-2.06 2.06-.94-2.06-.94L8.5 2.5l-.94 2.06-2.06.94zm10 10l.94 2.06.94-2.06 2.06-.94-2.06-.94-.94-2.06-.94 2.06-2.06.94z\"/><path d=\"M17.41 7.96l-1.37-1.37c-.4-.4-.92-.59-1.43-.59-.52 0-1.04.2-1.43.59L10.3 9.45l-7.72 7.72c-.78.78-.78 2.05 0 2.83L4 21.41c.39.39.9.59 1.41.59.51 0 1.02-.2 1.41-.59l7.78-7.78 2.81-2.81c.8-.78.8-2.07 0-2.86zM5.41 20L4 18.59l7.72-7.72 1.47 1.35L5.41 20z\"/>\n",
              "  </svg>\n",
              "      </button>\n",
              "      \n",
              "  <style>\n",
              "    .colab-df-container {\n",
              "      display:flex;\n",
              "      flex-wrap:wrap;\n",
              "      gap: 12px;\n",
              "    }\n",
              "\n",
              "    .colab-df-convert {\n",
              "      background-color: #E8F0FE;\n",
              "      border: none;\n",
              "      border-radius: 50%;\n",
              "      cursor: pointer;\n",
              "      display: none;\n",
              "      fill: #1967D2;\n",
              "      height: 32px;\n",
              "      padding: 0 0 0 0;\n",
              "      width: 32px;\n",
              "    }\n",
              "\n",
              "    .colab-df-convert:hover {\n",
              "      background-color: #E2EBFA;\n",
              "      box-shadow: 0px 1px 2px rgba(60, 64, 67, 0.3), 0px 1px 3px 1px rgba(60, 64, 67, 0.15);\n",
              "      fill: #174EA6;\n",
              "    }\n",
              "\n",
              "    [theme=dark] .colab-df-convert {\n",
              "      background-color: #3B4455;\n",
              "      fill: #D2E3FC;\n",
              "    }\n",
              "\n",
              "    [theme=dark] .colab-df-convert:hover {\n",
              "      background-color: #434B5C;\n",
              "      box-shadow: 0px 1px 3px 1px rgba(0, 0, 0, 0.15);\n",
              "      filter: drop-shadow(0px 1px 2px rgba(0, 0, 0, 0.3));\n",
              "      fill: #FFFFFF;\n",
              "    }\n",
              "  </style>\n",
              "\n",
              "      <script>\n",
              "        const buttonEl =\n",
              "          document.querySelector('#df-f0e9e833-e16e-4915-b766-191f7ddc43c5 button.colab-df-convert');\n",
              "        buttonEl.style.display =\n",
              "          google.colab.kernel.accessAllowed ? 'block' : 'none';\n",
              "\n",
              "        async function convertToInteractive(key) {\n",
              "          const element = document.querySelector('#df-f0e9e833-e16e-4915-b766-191f7ddc43c5');\n",
              "          const dataTable =\n",
              "            await google.colab.kernel.invokeFunction('convertToInteractive',\n",
              "                                                     [key], {});\n",
              "          if (!dataTable) return;\n",
              "\n",
              "          const docLinkHtml = 'Like what you see? Visit the ' +\n",
              "            '<a target=\"_blank\" href=https://colab.research.google.com/notebooks/data_table.ipynb>data table notebook</a>'\n",
              "            + ' to learn more about interactive tables.';\n",
              "          element.innerHTML = '';\n",
              "          dataTable['output_type'] = 'display_data';\n",
              "          await google.colab.output.renderOutput(dataTable, element);\n",
              "          const docLink = document.createElement('div');\n",
              "          docLink.innerHTML = docLinkHtml;\n",
              "          element.appendChild(docLink);\n",
              "        }\n",
              "      </script>\n",
              "    </div>\n",
              "  </div>\n",
              "  "
            ]
          },
          "metadata": {},
          "execution_count": 93
        }
      ]
    }
  ]
}